{
 "cells": [
  {
   "cell_type": "code",
   "execution_count": 1,
   "metadata": {},
   "outputs": [],
   "source": [
    "import qrcode\n",
    "\n",
    "# Create a QR code instance\n",
    "qr = qrcode.QRCode(version=1, box_size=10, border=5)\n",
    "\n",
    "# Input the text to be converted to QR code\n",
    "data = input(\"Insert Data here\")\n",
    "# Add the data to the QR code instance\n",
    "qr.add_data(data)\n",
    "\n",
    "# Generate the QR code image\n",
    "qr.make(fit=True)\n",
    "img = qr.make_image(fill_color=\"black\", back_color=\"white\")\n",
    "\n",
    "# Save the QR code image as a file\n",
    "img.show()\n"
   ]
  }
 ],
 "metadata": {
  "kernelspec": {
   "display_name": "Python 3",
   "language": "python",
   "name": "python3"
  },
  "language_info": {
   "codemirror_mode": {
    "name": "ipython",
    "version": 3
   },
   "file_extension": ".py",
   "mimetype": "text/x-python",
   "name": "python",
   "nbconvert_exporter": "python",
   "pygments_lexer": "ipython3",
   "version": "3.10.9"
  },
  "orig_nbformat": 4
 },
 "nbformat": 4,
 "nbformat_minor": 2
}
